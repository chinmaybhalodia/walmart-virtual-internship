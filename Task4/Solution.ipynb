{
 "cells": [
  {
   "attachments": {},
   "cell_type": "markdown",
   "metadata": {},
   "source": [
    "# Task 4\n",
    "Advanced Software Engineering Virtual Experience Program by Walmart Global Tech.<br>\n",
    "Code by: Chinmay Bhalodia"
   ]
  },
  {
   "cell_type": "code",
   "execution_count": 7,
   "metadata": {},
   "outputs": [],
   "source": [
    "# importing necessary libraries\n",
    "import sqlite3\n",
    "import csv\n",
    "\n",
    "con = sqlite3.connect(\"shipment_database.db\")\n",
    "cur = con.cursor()"
   ]
  },
  {
   "attachments": {},
   "cell_type": "markdown",
   "metadata": {},
   "source": [
    "Method to insert data for the table `product`:"
   ]
  },
  {
   "cell_type": "code",
   "execution_count": 8,
   "metadata": {},
   "outputs": [],
   "source": [
    "def insert_product(product_name):\n",
    "    cur.execute('''INSERT OR IGNORE INTO product(name) VALUES(?);''', (product_name,))\n",
    "    con.commit()"
   ]
  },
  {
   "attachments": {},
   "cell_type": "markdown",
   "metadata": {},
   "source": [
    "Method to insert data for the table `shipment`."
   ]
  },
  {
   "cell_type": "code",
   "execution_count": 9,
   "metadata": {},
   "outputs": [],
   "source": [
    "def insert_shipment(product_name, product_quantity, origin, destination):\n",
    "        cur.execute('''SELECT id FROM product WHERE product.name = ?;''', (product_name,))\n",
    "        product_id = cur.fetchone()[0]\n",
    "        cur.execute('''INSERT OR IGNORE INTO shipment(product_id, quantity, origin, destination) VALUES(?,?,?,?);''', (product_id, product_quantity, origin, destination))\n",
    "        con.commit()"
   ]
  },
  {
   "attachments": {},
   "cell_type": "markdown",
   "metadata": {},
   "source": [
    "Dealing with the simple data first. Adding the contents of `shipping_data_0.csv` to the tables."
   ]
  },
  {
   "cell_type": "code",
   "execution_count": 10,
   "metadata": {},
   "outputs": [],
   "source": [
    "with open(\"data/shipping_data_0.csv\") as csvfile:\n",
    "    reader_0 = csv.reader(csvfile)\n",
    "    for ind, row in enumerate(reader_0):\n",
    "        if ind> 0:\n",
    "            product_name = row[2]\n",
    "            product_quantity = row[4]\n",
    "            origin = row[0]\n",
    "            destination = row[1]\n",
    "\n",
    "            insert_product(product_name)\n",
    "            insert_shipment(product_name, product_quantity, origin, destination)"
   ]
  },
  {
   "attachments": {},
   "cell_type": "markdown",
   "metadata": {},
   "source": [
    "Dealing with the data in `shipping_data_1.csv` and `shipping_data_2.csv` and adding to the tables."
   ]
  },
  {
   "cell_type": "code",
   "execution_count": 11,
   "metadata": {},
   "outputs": [],
   "source": [
    "with open(\"data/shipping_data_1.csv\") as csvfile1:\n",
    "    with open(\"data/shipping_data_2.csv\") as csvfile2:\n",
    "        reader_1 = csv.reader(csvfile1)\n",
    "        reader_2 = csv.reader(csvfile2)\n",
    "        shipment_info = {}\n",
    "        for ind, row in enumerate(reader_2):\n",
    "            if ind > 0:\n",
    "                shipment_identifier = row[0]\n",
    "                origin = row[1]\n",
    "                destination = row[2]\n",
    "\n",
    "                shipment_info[shipment_identifier] = {\n",
    "                    \"origin\": origin,\n",
    "                    \"destination\": destination,\n",
    "                    \"products\": {}\n",
    "                }\n",
    "        \n",
    "        for ind, row in enumerate(reader_1):\n",
    "            if ind > 0:\n",
    "                shipment_identifier = row[0]\n",
    "                product_name = row[1]\n",
    "\n",
    "                products = shipment_info[shipment_identifier][\"products\"]\n",
    "                products[product_name] = products.get(product_name, 0) + 1\n",
    "        \n",
    "        for shipment_identifier, shipment in shipment_info.items():\n",
    "            origin = shipment_info[shipment_identifier][\"origin\"]\n",
    "            destination = shipment_info[shipment_identifier][\"destination\"]\n",
    "            for product_name, product_quantity in shipment[\"products\"].items():\n",
    "                insert_product(product_name)\n",
    "                insert_shipment(product_name, product_quantity, origin, destination)"
   ]
  },
  {
   "attachments": {},
   "cell_type": "markdown",
   "metadata": {},
   "source": [
    "Closing the connection to the database."
   ]
  },
  {
   "cell_type": "code",
   "execution_count": 12,
   "metadata": {},
   "outputs": [],
   "source": [
    "con.close()"
   ]
  }
 ],
 "metadata": {
  "kernelspec": {
   "display_name": "base",
   "language": "python",
   "name": "python3"
  },
  "language_info": {
   "codemirror_mode": {
    "name": "ipython",
    "version": 3
   },
   "file_extension": ".py",
   "mimetype": "text/x-python",
   "name": "python",
   "nbconvert_exporter": "python",
   "pygments_lexer": "ipython3",
   "version": "3.9.12"
  },
  "orig_nbformat": 4
 },
 "nbformat": 4,
 "nbformat_minor": 2
}
